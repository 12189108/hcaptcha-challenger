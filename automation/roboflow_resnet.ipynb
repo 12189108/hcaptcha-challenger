{
 "nbformat": 4,
 "nbformat_minor": 0,
 "metadata": {
  "colab": {
   "provenance": []
  },
  "kernelspec": {
   "name": "python3",
   "display_name": "Python 3"
  },
  "language_info": {
   "name": "python"
  }
 },
 "cells": [
  {
   "cell_type": "markdown",
   "source": [
    "[ResNet of roboflow](https://colab.research.google.com/github/QIN2DIM/hcaptcha-challenger/blob/main/automation/roboflow_resnet.ipynb)"
   ],
   "metadata": {
    "collapsed": false
   }
  },
  {
   "cell_type": "code",
   "execution_count": null,
   "outputs": [],
   "source": [
    "!nvidia-smi"
   ],
   "metadata": {
    "collapsed": false,
    "is_executing": true
   }
  },
  {
   "cell_type": "code",
   "source": [
    "!pip install loguru onnx fire\n",
    "!git clone -b workflow https://github.com/captcha-challenger/hcaptcha-model-factory.git\n",
    "!mv -f hcaptcha-model-factory/src .\n",
    "!rm -rf hcaptcha-model-factory/"
   ],
   "metadata": {
    "id": "1pTzykxKeaKk"
   },
   "execution_count": null,
   "outputs": []
  },
  {
   "cell_type": "markdown",
   "source": [],
   "metadata": {
    "collapsed": false
   }
  },
  {
   "cell_type": "markdown",
   "source": [
    "Set `label_name` and `GITHUB_TOKEN`"
   ],
   "metadata": {
    "collapsed": false
   }
  },
  {
   "cell_type": "code",
   "execution_count": null,
   "outputs": [],
   "source": [
    "import os\n",
    "\n",
    "os.environ[\"GITHUB_TOKEN\"] = \"\"\n",
    "\n",
    "# After Annotating, edit `focus_flags`\n",
    "# - Copy from: `[PROJECT]/database2309/<diagnosed_label_name>`\n",
    "# - Paste to: `[PROJECT]/data/<diagnosed_label_name>`\n",
    "# - Output to: `[PROJECT]/model/<diagnosed_label_name>/<model_name[flag].onnx>`\n",
    "\n",
    "# fmt:off\n",
    "focus_flags = {\n",
    "    # \"<diagnosed_label_name>\": \"<model_name[flag]>\"\n",
    "    # \"fox\": \"fox2310\",\n",
    "}\n",
    "# fmt:on"
   ],
   "metadata": {
    "collapsed": false
   }
  },
  {
   "cell_type": "code",
   "source": [
    "from pathlib import Path\n",
    "\n",
    "\n",
    "this_dir = Path(\"/content\")\n",
    "project_dir = this_dir\n",
    "\n",
    "model_dir = project_dir.joinpath(\"model\")\n",
    "binary_dir = project_dir.joinpath(\"database2309\")\n",
    "factory_data_dir = project_dir.joinpath(\"data\")\n",
    "scripts_dir = project_dir.joinpath(\"scripts\")\n",
    "\n",
    "binary_dir.mkdir(parents=True, exist_ok=True)"
   ],
   "metadata": {
    "id": "y9au1FLBdCxb"
   },
   "execution_count": null,
   "outputs": []
  },
  {
   "cell_type": "markdown",
   "source": [
    "Training"
   ],
   "metadata": {
    "collapsed": false
   }
  },
  {
   "cell_type": "code",
   "execution_count": null,
   "outputs": [],
   "source": [
    "%cd {src_dir}\n",
    "\n",
    "import os\n",
    "import shutil\n",
    "\n",
    "from apis.scaffold import Scaffold\n",
    "from loguru import logger\n",
    "\n",
    "\n",
    "def quick_train():\n",
    "    if not focus_flags:\n",
    "        logger.warning(\"Skip model training, miss focus-flags\")\n",
    "        return\n",
    "\n",
    "    # Copy the classified data into the dataset\n",
    "    for task_name in focus_flags:\n",
    "        to_dir = factory_data_dir.joinpath(task_name)\n",
    "        shutil.rmtree(to_dir, ignore_errors=True)\n",
    "        to_dir.mkdir(parents=True, exist_ok=True)\n",
    "\n",
    "        # Flush dataset\n",
    "        src_dir = binary_dir.joinpath(task_name)\n",
    "        for hook in [\"yes\", \"bad\"]:\n",
    "            shutil.copytree(src_dir.joinpath(hook), to_dir.joinpath(hook))\n",
    "\n",
    "        # train\n",
    "        Scaffold.train(task=task_name)\n",
    "\n",
    "\n",
    "quick_train()"
   ],
   "metadata": {
    "collapsed": false
   }
  },
  {
   "cell_type": "markdown",
   "source": [
    "Deployment model to GitHub"
   ],
   "metadata": {
    "collapsed": false
   }
  },
  {
   "cell_type": "code",
   "execution_count": null,
   "outputs": [],
   "source": [
    "import locale\n",
    "\n",
    "locale.getpreferredencoding = lambda d=True: \"UTF-8\"\n",
    "\n",
    "!pip install PyGithub\n",
    "\n",
    "from github import Auth, Github, GithubException\n",
    "\n",
    "\n",
    "def quick_development():\n",
    "    if not os.getenv(\"GITHUB_TOKEN\"):\n",
    "        logger.warning(\"Skip model deployment, miss GITHUB TOKEN\")\n",
    "        return\n",
    "\n",
    "    auth = Auth.Token(os.getenv(\"GITHUB_TOKEN\", \"\"))\n",
    "    repo = Github(auth=auth).get_repo(\"QIN2DIM/hcaptcha-challenger\")\n",
    "    modelhub_title = \"ONNX ModelHub\"\n",
    "\n",
    "    for label, onnx_archive in focus_flags.items():\n",
    "        model_path = model_dir.joinpath(label, f\"{label}.onnx\")\n",
    "        pending_onnx_path = model_dir.joinpath(label, f\"{onnx_archive}.onnx\")\n",
    "        shutil.copy(model_path, pending_onnx_path)\n",
    "        for release in repo.get_releases():\n",
    "            if release.title != modelhub_title:\n",
    "                continue\n",
    "            try:\n",
    "                res = release.upload_asset(path=str(pending_onnx_path))\n",
    "            except GithubException as err:\n",
    "                if err.status == 422:\n",
    "                    logger.error(\n",
    "                        f\"The model file already exists, please manually replace the file with the same name - url={repo.releases_url}\",\n",
    "                        url=repo.releases_url,\n",
    "                    )\n",
    "            except Exception as err:\n",
    "                logger.error(err)\n",
    "            else:\n",
    "                logger.success(\n",
    "                    f\"Model file uploaded successfully - name={res.name} url={res.browser_download_url}\"\n",
    "                )\n",
    "\n",
    "\n",
    "quick_development()"
   ],
   "metadata": {
    "collapsed": false
   }
  }
 ]
}
